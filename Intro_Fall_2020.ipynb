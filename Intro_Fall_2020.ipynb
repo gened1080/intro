{
  "nbformat": 4,
  "nbformat_minor": 0,
  "metadata": {
    "kernelspec": {
      "display_name": "python3",
      "language": "python",
      "name": "python3"
    },
    "language_info": {
      "codemirror_mode": {
        "name": "ipython",
        "version": 3
      },
      "file_extension": ".py",
      "mimetype": "text/x-python",
      "name": "python",
      "nbconvert_exporter": "python",
      "pygments_lexer": "ipython3",
      "version": "3.7.3"
    },
    "colab": {
      "name": "Intro Fall 2020",
      "provenance": [],
      "toc_visible": true,
      "include_colab_link": true
    }
  },
  "cells": [
    {
      "cell_type": "markdown",
      "metadata": {
        "id": "view-in-github",
        "colab_type": "text"
      },
      "source": [
        "<a href=\"https://colab.research.google.com/github/gened1080/intro/blob/master/Intro_Fall_2020.ipynb\" target=\"_parent\"><img src=\"https://colab.research.google.com/assets/colab-badge.svg\" alt=\"Open In Colab\"/></a>"
      ]
    },
    {
      "cell_type": "markdown",
      "metadata": {
        "collapsed": true,
        "id": "zvDoDXJVwuvz",
        "colab_type": "text"
      },
      "source": [
        "# Introduction to Python, Notebooks and the *ThinkDSP* library\n",
        "\n",
        "The first section of this notebook introduces Python and Notebooks, and the second will get you up and running with the *ThinkDSP* signal processing library.\n",
        "\n",
        "If you are already familiar with Python and Jupyter Notebooks, you can skip straight to the \"ThinkDSP\" section."
      ]
    },
    {
      "cell_type": "markdown",
      "metadata": {
        "id": "BJet7qdcwuv2",
        "colab_type": "text"
      },
      "source": [
        "**Acknowledgments**: Most of the notebooks in GenEd 1080 are adapted from the book [*Think DSP*](https://greenteapress.com/wp/think-dsp/) by Allen B. Downey, and use its companion *ThinkX* libraries. Some parts of this notebook were adapted from Anna Klales' [*Python Lesson 1*](https://colab.research.google.com/github/anna-klales/Python_S1b2020/blob/master/Lesson_1_Getting_Started.ipynb) notebook."
      ]
    },
    {
      "cell_type": "markdown",
      "metadata": {
        "id": "GHSvcIv1wuv3",
        "colab_type": "text"
      },
      "source": [
        "## Python\n",
        "\n",
        "We will be using the Python programming language to process sound signals using computer algorithms. You won't be expected to write your own code from scratch, unless you wish to do so for one of your projects, or to further your learning. \n",
        "\n",
        "We've chosen the Python programming language because it is especially simple to read and write, and because of its popularity across a vast number of engineering and music programming fields. As a result of this popularity, it's possible to find free Python libraries to support just about any music engineering project you may be interested in. \n",
        "\n",
        "A *library* is a collection of code written and shared by others that allows you to perform some more advanced tasks without having to write the code from scratch yourself. Instead, you can call a function from a pre-existing library. In this class we will frequently use a library called *ThinkDSP* (DSP stands for Digital Signal Processing), which provides a number of functions for working with audio signals.\n",
        "\n",
        "It's often easiest to use a program like Audacity to record, visualize, and manipulate audio, or to use a Digital Audio Workstation like Ableton Live, Logic, or Pro Tools. In each of these cases, however, what you're able to do is limited by the features and design of the program. As you begin to write your own code, you gain the ability to customize your own tools, and the sky is the limit of what you can create.\n",
        "\n",
        "### Resources\n",
        "\n",
        "The web is full of resouces about Python and Notebooks. Here are a few to get you started, but be sure to do your own search as well: \n",
        "\n",
        "- This is a [quick reference](https://medium.com/ibm-data-science-experience/markdown-for-jupyter-notebooks-cheatsheet-386c05aeebed) on how to format the text in your notebook. Formatted text is called Markdown.\n",
        "- This is an [interactive book](https://runestone.academy/runestone/books/published/thinkcspy/index.html) that takes you step by step into learning Python \n",
        "- This is a good (and thorough!) [crash course](https://ehmatthes.github.io/pcc/) on Python\n"
      ]
    },
    {
      "cell_type": "markdown",
      "metadata": {
        "id": "FR2bGyUq8qbh",
        "colab_type": "text"
      },
      "source": [
        "## About Notebooks\n",
        "\n",
        "Python is only useful when we have an environment to carry out the code we have written. The environment could be your local computer's Python interpreter, but in this class we will use Jupyter Notebooks hosted on Google's Colab service. What you're seeing here is a Jupyter Notebook--we'll call this a \"notebook\" going forward for conciseness.\n",
        "\n",
        "Notebooks are a popular way for researchers in data science or applied computational sciences to disseminate their work. This arose from the recent push for more transparency and reproducibility in all research. You can read about the principles of reproducible research [here](https://www.practicereproducibleresearch.org/core-chapters/1-intro.html).\n",
        "\n",
        "What is great about notebooks is it allows others to see your code and outputs in the order you ran them along with any text cells. It helps you organize your research in a cohesive fashion.\n",
        "\n",
        "## About Colab\n",
        "\n",
        "Colab is a Google Cloud product that hosts Jupyter Notebooks on your Google account. It is a great way to collaborate with anyone who has a Google account by sharing your notebook like any other Google drive document. Colab provides free on-demand runtimes that give you compute power in the cloud. This means that the code you run is carried out in standardized and powerful remote machines in Google's data centers - freeing users of buying/setting up their own machines to run code. This is especially useful for hardware-intensive tasks like deep learning, which require very expensive graphics cards.\n",
        "\n",
        "## Saving and sharing your notebooks\n",
        "\n",
        "Please refer to this [cheatsheet](https://docs.google.com/document/d/1XZZzmM6PcmB7CTSMt9RtXXXCpEbbZWxvXwYO0haIuzk/edit?usp=sharing) for a quick into to saving and sharing your notebooks. \n",
        "\n",
        "## Starter notes about Python\n",
        "\n",
        "**Syntax**\n",
        "\n",
        "When writing code, you have to respect the syntax (rules) that Python expects, otherwise you get errors. Think of syntax as the grammar of a programming language. Human beings can handle grammatical errors when listening to someone or reading, and perhaps can use context and manage to understand the words even if the grammar is incorrect. Sometimes we make mistakes in our interpretation, but communication keeps flowing. In a computer language, there is no such flexibility. Syntax errors stop all communication between you and the computer. The computer cannot make assumptions and move on (we are not talking about AI here!). \n",
        "\n",
        "**Interpreted vs. Compiled languages**\n",
        "\n",
        "Python is an interpreted language, meaning you don't have to compile and then run the whole program; you could run the code one line at a time, and the *interpreter* immediately interprets your code one line at a time and gives you the results of your code. For a compiled language, on the other hand, the whole program has to compile correctly wihtout any errors before you can see any results. \n",
        "\n",
        "If you get an error in a line, you would still get results from the lines above before the program stops. Usually error messages tell you exactly what you need to do to fix a problem, so they are your friends and don't be afraid of them! \n",
        "\n",
        "**Variables**\n",
        "\n",
        "If you never programmed before, you should get familiar with the concept of a variable. A variable is something that you define by setting it equal to something else (like a number, or a text string, or the output of a function call). You are free to name variables as you wish, but try to make your names meaningful within the context of the code. Typing the name of the variable will print its value when you run the code. If you change the value of a variable, you have to rerun the cell that contains that change to make it stick.  "
      ]
    },
    {
      "cell_type": "markdown",
      "metadata": {
        "id": "Dy-hVa-ZMmGS",
        "colab_type": "text"
      },
      "source": [
        "## Try it out!\n",
        "\n",
        "Below are our first two code cells. The code in the first cell creates a variable called `my_variable_1`, assigns the text `hello world` to that variable, and then prints the variable's value. The second cell creates a different variable and assigns it a value of `10`.\n",
        "\n",
        "- When you hover over the top left of the cell, a play button appears. Clicking this button is how you run the code.\n",
        "\n",
        "- Once the code has run, an output appears below. When you hover over left of the output, an \"x\" button will appear, which closes the output display.\n",
        "\n",
        "- You can make changes and re-run the code, and the output will change, whether or not you have closed the output display.\n",
        "\n",
        "Pro tip: you can also click into the cell and press CTRL+ENTER (win/linux) or CMD+ENTER (mac) to run a code cell."
      ]
    },
    {
      "cell_type": "code",
      "metadata": {
        "id": "wO3BeFUXwuv4",
        "colab_type": "code",
        "colab": {},
        "outputId": "5078dc0d-a1be-4621-c8a7-55858270cfeb"
      },
      "source": [
        "my_variable_1 = \"hello world\"\n",
        "my_variable_1\n"
      ],
      "execution_count": null,
      "outputs": []
    },
    {
      "cell_type": "code",
      "metadata": {
        "id": "RUdSBbMgwuwA",
        "colab_type": "code",
        "colab": {}
      },
      "source": [
        "my_variable_2 = 10.0\n",
        "my_variable_2"
      ],
      "execution_count": null,
      "outputs": []
    },
    {
      "cell_type": "markdown",
      "metadata": {
        "id": "4bCoHpDypx6s",
        "colab_type": "text"
      },
      "source": [
        "## Python as a calculator\n",
        "\n",
        "If you hover your mouse just a bit below this text cell, you'll see an option pop up to either add Code or Text. \n",
        "\n",
        "**Select \"+ Code\" to add a new code cell.**"
      ]
    },
    {
      "cell_type": "markdown",
      "metadata": {
        "id": "KWYn4GRlaRZf",
        "colab_type": "text"
      },
      "source": [
        "A simple way to see Python in action is to use it as a calculator. \n",
        "\n",
        "In the code cell you just created, add 3 and 2 by typing `3+2` and run the code. The `+` sign works just like pressing the \"+\" button on a calculator."
      ]
    },
    {
      "cell_type": "markdown",
      "metadata": {
        "id": "OGa4i0qcqC9I",
        "colab_type": "text"
      },
      "source": [
        "See how it spits out the answer, which I hope was 5!?  You can also assign values to **variables**, like this:\n",
        "\n",
        "```\n",
        "a = 3\n",
        "b = 2\n",
        "\n",
        "a+b\n",
        "```\n",
        "(Warning! The above is just text, not code you can run.  You'll have to type this into a code cell to run it.) \n",
        "\n",
        "\n",
        "\n",
        "\n",
        "\n",
        "\n"
      ]
    },
    {
      "cell_type": "markdown",
      "metadata": {
        "id": "YOldlDs0Uh5j",
        "colab_type": "text"
      },
      "source": [
        "Here `a` and `b` are like little labeled containers or jars that hold your numbers.\n",
        "\n",
        "You can change what's in the jar by reassigning it:\n",
        "\n",
        "```\n",
        "a=7\n",
        "```"
      ]
    },
    {
      "cell_type": "markdown",
      "metadata": {
        "id": "NpWnwyUbikaM",
        "colab_type": "text"
      },
      "source": [
        "## Assigning values to variables\n",
        "\n",
        "Now, we have to talk a little bit about the `=` sign in Python; it doesn't work quite like it does in math.\n",
        "\n",
        "Python looks to the *right* hand side of an equals sign, and assigns that value to the variable on the *left* of the equals sign. For this reason, the equals sign is called an \"assignment operator\" in Python.\n",
        "\n",
        "If the value to the right is just a `3`, Python will assign the variable a value of 3. But if it's `3+2`, Python will first add these values, and assign the variable a value of 5.  \n",
        "\n",
        "You have to assign a value to a variable before Python is able to work with it. For example, see what happens if you try to run the following line of code:\n",
        "\n",
        "```a - 8 = 3 + 4.```"
      ]
    },
    {
      "cell_type": "markdown",
      "metadata": {
        "id": "4paWM4zNY2d6",
        "colab_type": "text"
      },
      "source": [
        "What you see is Python \"throwing an error.\" \n",
        "\n",
        "The process of figuring out what went wrong and fixing your code is called **debugging**, and usually involves a bit of Googling to figure out what went wrong. \n",
        "\n",
        "The first step, however, is to read the error that Python threw (which many people surprisingly do not do!). In this case, Python is trying to tell us that it could not assign a value to our variable. And this is because we were trying to use the variable at the same time as we were trying to assign its value. One way to fix this bug would be to split our code into two separate steps:\n",
        "\n",
        "```\n",
        "a = 3+4\n",
        "a-8\n",
        "```"
      ]
    },
    {
      "cell_type": "markdown",
      "metadata": {
        "id": "iJLrHH7AY6Ie",
        "colab_type": "text"
      },
      "source": [
        "And another way to fix it would be to move all the values to the right side of the assignment operator:\n",
        "\n",
        "```a = -8+3+4```"
      ]
    },
    {
      "cell_type": "markdown",
      "metadata": {
        "id": "Qdt6ZG-AY9cN",
        "colab_type": "text"
      },
      "source": [
        "In this latter case, however, nothing will display when we run the code. This is because we have only asked Python to assign a value to a variable, but not to show us a result. To do that, you will need to add one extra line of code that reads either: `a` or `print(a)`, asking Python for the result of the variable `a`."
      ]
    },
    {
      "cell_type": "markdown",
      "metadata": {
        "id": "UhbOQjqi508i",
        "colab_type": "text"
      },
      "source": [
        "The more error messages you read, and the more you Google, the better you will become at debugging. Think of every error message as a gift; it is the computer trying to tell you what is going wrong, and giving you clues about how you can think through improving your code."
      ]
    },
    {
      "cell_type": "markdown",
      "metadata": {
        "id": "bpHjruLgjk-n",
        "colab_type": "text"
      },
      "source": [
        "## Multiple variables\n",
        "\n",
        "You can assign several variables at the same time, and you also have different options for displaying those variables. Try running these three lines of code in a new cell:\n",
        "\n",
        "```\n",
        "a = 4-7\n",
        "anna_k = 3+4\n",
        "a4 = 1+9\n",
        "```\n",
        "\n"
      ]
    },
    {
      "cell_type": "markdown",
      "metadata": {
        "id": "t8GG0eYObulh",
        "colab_type": "text"
      },
      "source": [
        "Once again, Python has assigned values to all your variables, but it didn't print any results. This is because the assignment operation is invisible until you use your newly-assigned variable.\n",
        "\n",
        "If, instead, you run only:\n",
        "\n",
        "```\n",
        "4-7\n",
        "3+4\n",
        "1+9\n",
        "```\n",
        "\n",
        "You'll notice that you only get the result for the final line of code. By default, Python \"prints out\" (displays) the value of whatever is in your final line of code, as long as it's the type of operation that returns a result.\n",
        "\n",
        "Assigning these values to variables, however, gives us some more display options.\n",
        "\n",
        "For example, if you want to print the values of all three variables, you can do any of the following:\n",
        "\n",
        "```\n",
        "a = 4-7\n",
        "print(a)\n",
        "anna_k = 3+4\n",
        "print(anna_k)\n",
        "a4 = 1+9\n",
        "print(a4)\n",
        "```\n",
        "\n",
        "Or:\n",
        "\n",
        "```\n",
        "a = 4-7\n",
        "anna_k = 3+4\n",
        "a4 = 1+9\n",
        "print(a)\n",
        "print(anna_k)\n",
        "print(a4)\n",
        "```\n",
        "\n",
        "Or:\n",
        "\n",
        "```\n",
        "a = 4-7\n",
        "anna_k = 3+4\n",
        "a4 = 1+9\n",
        "print(a,anna_k,a4)\n",
        "```\n",
        "\n",
        "Try these out in a new code cell below."
      ]
    },
    {
      "cell_type": "markdown",
      "metadata": {
        "id": "1YUAiPCL6YWH",
        "colab_type": "text"
      },
      "source": [
        "## Whitespace\n",
        "\n",
        "Unlike most programming languages, Python is particular about certain types of whitespace, meaning spaces and tabs that come before a line of code.  The following code is going to \"throw an error.\"  Try it!  Can you fix it?  "
      ]
    },
    {
      "cell_type": "code",
      "metadata": {
        "id": "e0m6z-yq7Cht",
        "colab_type": "code",
        "colab": {}
      },
      "source": [
        "a = 2\n",
        " b = -3\n",
        "\n",
        "c = a + b\n",
        "\n",
        "print(c)"
      ],
      "execution_count": null,
      "outputs": []
    },
    {
      "cell_type": "markdown",
      "metadata": {
        "id": "ZWzO7sbOYSzs",
        "colab_type": "text"
      },
      "source": [
        "The humble print statment is one of the most useful tools you have, because it lets you check your work. The mantra for successful debugging is \"WHEN IN DOUBT, PRINT IT OUT!\"\n"
      ]
    },
    {
      "cell_type": "markdown",
      "metadata": {
        "id": "NgszKSzawuwD",
        "colab_type": "text"
      },
      "source": [
        "## Setting up your environment\n",
        "\n",
        "The code cell below will copy all the relevant files--like sound files that we'll use in the rest of this notebook--from the remote GenEd 1080 repository on GitHub.\n",
        "\n",
        "Double-click the folder icon in the pane on the left of this notebook, and when you run the code, you will be able to watch an \"intro\" folder appear, full of files:\n",
        "\n",
        "![image.png](data:image/png;base64,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)\n",
        "\n",
        "Be patient, as this may take a few seconds to complete!"
      ]
    },
    {
      "cell_type": "code",
      "metadata": {
        "id": "WA9bnXz6w6sB",
        "colab_type": "code",
        "colab": {}
      },
      "source": [
        "%%bash\n",
        "!(stat -t /usr/local/lib/*/dist-packages/google/colab > /dev/null 2>&1) && exit \n",
        "rm -rf intro\n",
        "git clone https://github.com/gened1080/intro.git"
      ],
      "execution_count": null,
      "outputs": []
    },
    {
      "cell_type": "markdown",
      "metadata": {
        "id": "f4tqxFwHFwI_",
        "colab_type": "text"
      },
      "source": [
        "## Installing ThinkDSP\n",
        "\n",
        "Below is some Python code to import and install the ThinkDSP library we talked about at the beginning of this notebook.\n",
        "\n",
        "Take a look at the code, and here are a few points to help you understand exactly what it is doing:\n",
        "\n",
        "- Python requires that libraries be installed before they can be imported into a session. In this case, the *thinkdsp* and *thinkplot* libraries are being cloned from a remote repository on GitHub, which is the installation step. \n",
        "\n",
        "- Some other libraries don't require installation as they have been pre-installed in Colab's runtimes. The 'import' command (see below) makes specific libraries available in our session. \n",
        "\n",
        "- Any line in a code cell starting with the '#' is a comment, and is ignored by the interpreter. Adding comments to your code is very useful as an explanation (or reminder to yourself!) about what your code is doing. So write comments when you can!\n",
        "\n",
        "- numpy is a scientific computing library that imports mathmatical functions.\n",
        "\n",
        "**Run the code cell below, and you will see these libraries appear in the file browser to the left.**"
      ]
    },
    {
      "cell_type": "code",
      "metadata": {
        "id": "u5tDdf_BwuwE",
        "colab_type": "code",
        "colab": {}
      },
      "source": [
        "# This is a comment. The following code sets up your environment\n",
        "\n",
        "from __future__ import print_function, division\n",
        "\n",
        "%matplotlib inline\n",
        "\n",
        "import sys\n",
        "sys.path.append(\"/content/intro\")\n",
        "\n",
        "import os\n",
        "if not os.path.exists('thinkdsp.py'):\n",
        "    !wget https://github.com/AllenDowney/ThinkDSP/raw/master/code/thinkdsp.py\n",
        "\n",
        "if not os.path.exists('thinkplot.py'):\n",
        "    !wget https://github.com/AllenDowney/ThinkDSP/raw/master/code/thinkplot.py\n",
        "\n",
        "import thinkdsp\n",
        "import thinkplot\n",
        "\n",
        "# This is where we import the numpy math library, and another comment!\n",
        "import numpy as np\n",
        "\n",
        "from ipywidgets import interact, interactive, fixed\n",
        "import ipywidgets as widgets\n",
        "from IPython.display import display"
      ],
      "execution_count": null,
      "outputs": []
    },
    {
      "cell_type": "markdown",
      "metadata": {
        "id": "O61HTgIPwuwH",
        "colab_type": "text"
      },
      "source": [
        "## Getting started with ThinkDSP\n",
        "\n",
        "ThinkDSP is a library that contains classes, like `SinSignal()`, which will create a sine signal with a certain frequency, max amplitude and phase offset.\n",
        "\n",
        "You can adjust these values using the parameters `freq`, `amp`, and `offset`.\n",
        "\n",
        "A phase offset of 90 degrees turns a sine function into a cosine, or you can also create a cosine signal using the `CosSignal` class. \n",
        "\n",
        "You can also adjust parameters like the duration in seconds, the start time, and the frame rate--the sampling rate in samples per second--of your signal (you usually need a frame rate that's at least twice the highest frequency of your signal).\n",
        "\n",
        "Once you create a signal, you can make a wave *object* out of it. An object is an *instance* of a class. Instatiation refers to constructing an object from a class definition. \n",
        "\n",
        "An object contains the parameters you can adjust, as well as a set of *functions* you can use, like, for example, the `plot()` function in the code cell below. \n",
        "\n",
        "The ThinkDSP library has three major classes, each with different uses and functions defined on them. The relationship between these classes is described in the image below:\n",
        "\n",
        "| ![sig_wave_spectrum](https://github.com/gened1080/intro/blob/master/sig_wave_spectrum.jpg?raw=1) | \n",
        "|:--:| \n",
        "|*From ThinkDSP*|\n",
        "\n",
        "**The code cell below defines a sine signal object, and running the code plots that signal:**"
      ]
    },
    {
      "cell_type": "code",
      "metadata": {
        "id": "zr96JYp7wuwI",
        "colab_type": "code",
        "colab": {}
      },
      "source": [
        "sin_sig1 = thinkdsp.SinSignal(freq=440, amp=1.0, offset=0)\n",
        "sin_sig2 = thinkdsp.SinSignal(freq=450, amp=1.0, offset=0)\n",
        "sin_sig1.plot()\n",
        "thinkplot.config(xlabel='Time (s)')\n",
        "\n",
        "wave0 = sin_sig1.make_wave(duration=10, start=0, framerate=11025)\n",
        "wave0\n",
        "from IPython.display import Audio\n",
        "audio = Audio(data=wave0.ys, rate=wave0.framerate)\n",
        "audio"
      ],
      "execution_count": null,
      "outputs": []
    },
    {
      "cell_type": "markdown",
      "metadata": {
        "id": "K8d0Ntx_wuwL",
        "colab_type": "text"
      },
      "source": [
        "**Try changing parameters in the following code, like frequency and duration, but make sure frame rate is at least twice the highest frequency.**"
      ]
    },
    {
      "cell_type": "code",
      "metadata": {
        "id": "6T1PXFjwwuwM",
        "colab_type": "code",
        "colab": {},
        "outputId": "13de7b98-f32e-4214-c961-edb727b4e39f"
      },
      "source": [
        "sin_sig2.plot()\n",
        "thinkplot.config(xlabel='Time (s)')\n",
        "wave1 = sin_sig2.make_wave(duration=2, start=0, framerate=11025)\n",
        "wave1\n",
        "from IPython.display import Audio\n",
        "audio = Audio(data=wave1.ys, rate=wave1.framerate)\n",
        "audio"
      ],
      "execution_count": null,
      "outputs": []
    },
    {
      "cell_type": "markdown",
      "metadata": {
        "id": "UPH8oKhNwuwR",
        "colab_type": "text"
      },
      "source": [
        "**Try out the following:**\n",
        "\n",
        "- Change the frequencies\n",
        "- play tones that are multiples of each other (harmonics) and see if you can detect any difference. \n",
        "- Change the phase and see if you can hear a difference  (mostly likely not). "
      ]
    },
    {
      "cell_type": "markdown",
      "metadata": {
        "id": "YO7Q1acep6bl",
        "colab_type": "text"
      },
      "source": [
        "### Mixing\n",
        "Now that we have 2 functions, we can mix them (add them, superimpose them) and create a new wave that's a mix of the two. If you played around with the parameters above, set the frequencies of sin_sig1 to 440, and sin_sig2 to 436 and **re-run both cells to make that change stick**\n",
        "\n",
        "Jupyter notebooks provides a widget that plays audio called \"Audio\"\n",
        "or you can use `wave.make_audio( )` from ThinkDSP instead."
      ]
    },
    {
      "cell_type": "code",
      "metadata": {
        "id": "YSY9QDu5wuwS",
        "colab_type": "code",
        "colab": {},
        "outputId": "d2cb6813-36f0-465c-8ba5-84aa1804eccc"
      },
      "source": [
        "mix1 = sin_sig1 + sin_sig2\n",
        "mix1\n",
        "\n",
        "wave3 = mix1.make_wave(duration=4.0, start=0, framerate=11025)\n",
        "wave3\n",
        "\n",
        "period = mix1.period\n",
        "segment = wave3.segment(start=0, duration=period*200)\n",
        "period\n",
        "\n",
        "segment.plot()\n",
        "thinkplot.config(xlabel='Time (s)')\n",
        "\n",
        "from IPython.display import Audio\n",
        "audio = Audio(data=wave3.ys, rate=wave3.framerate)\n",
        "audio\n"
      ],
      "execution_count": null,
      "outputs": []
    },
    {
      "cell_type": "markdown",
      "metadata": {
        "id": "luaLR62SwuwW",
        "colab_type": "text"
      },
      "source": [
        "**Change the duration above to capture more periods and rerun the cell.**\n",
        "\n",
        "**Change the duration of the wave if you want to hear it for a longer period.**\n",
        "\n"
      ]
    },
    {
      "cell_type": "markdown",
      "metadata": {
        "id": "0prr3hy0qPIH",
        "colab_type": "text"
      },
      "source": [
        "### BEATS\n",
        "\n",
        "To understand what happens when we add two pure tones as above, we can use one of the many trigonametric identities for sine and cosine. For this particular instance this is useful identity:\n",
        "\n",
        "$sin(\\theta_1) + sin(\\theta_2) = $\n",
        "$2sin(\\frac{1}{2}(\\theta_1+\\theta_2))cos(\\frac{1}{2}(\\theta_1-\\theta_2))$\n",
        "\n",
        "Setting the frequency of the first tone at 440 and the second tone at 436, here is an explanation of what you are hearing:\n",
        "\n",
        "> \"... we perceive the combined effect as a sine wave with frequency 438 Hz, the average of the frequencies of the two strings, but with the amplitude modulated by a slow cosine wave with frequency 2 Hz, or half the difference between the frequencies of the two strings. This modulation is what we perceive as beats. The amplitude of the modulating cosine wave has two peaks per cycle, so the number of beats per second will be four, not two. So the number of beats per second is exactly the difference between the two frequencies.\" (Benson, p. 20)"
      ]
    },
    {
      "cell_type": "markdown",
      "metadata": {
        "id": "YgvNmTbNwuwX",
        "colab_type": "text"
      },
      "source": [
        "### Reading and writing .wav files\n",
        "The `read_wave()` reads .wav files into a wave. and the write function, writes a wave to a .wav file. Once you run the code, you will see that there is a new file in your environment called 'new_violin-B3.wav'. "
      ]
    },
    {
      "cell_type": "code",
      "metadata": {
        "id": "RNYsfLTUwuwY",
        "colab_type": "code",
        "colab": {},
        "outputId": "27bcbd7f-2400-4633-a389-74b49d9c5f00"
      },
      "source": [
        "violin_wave = thinkdsp.read_wave('/content/intro/violin-B3.wav')\n",
        "\n",
        "segment = violin_wave.segment(start=2, duration=2)\n",
        "segment.plot()\n",
        "thinkplot.config(xlabel='Time (s)')\n",
        "\n",
        "violin_wave.write(filename='/content/intro/new_violin-B3.wav')\n",
        "violin_wave.make_audio()"
      ],
      "execution_count": null,
      "outputs": []
    },
    {
      "cell_type": "markdown",
      "metadata": {
        "id": "nKgjbnXbwuwc",
        "colab_type": "text"
      },
      "source": [
        "**Try uploading your own sound files, take a segment of them and plot the spectrum.**\n",
        "\n",
        "Hint: substitute the above file with any sound file you add to the 'intro' folder "
      ]
    },
    {
      "cell_type": "markdown",
      "metadata": {
        "id": "n55E7iXfJlQ_",
        "colab_type": "text"
      },
      "source": [
        "### Bonus for seasoned Pythoners \n",
        "\n",
        "Write a function to encapsulate the task above. Make sure to show an example output by using your function.\n",
        "\n",
        "The signature has been provided to you. The function should return `None`.\n",
        "\n",
        "While the code we will encounter in this class is accessible to first-time Pythoners, we encourage more seasoned coders to make your code more readable and scalable using control flows (for, while loops, etc.) and functions anywhere possible."
      ]
    },
    {
      "cell_type": "code",
      "metadata": {
        "id": "mThUl8WyJ09N",
        "colab_type": "code",
        "colab": {}
      },
      "source": [
        "def segment_wave(wave_path, new_wave_path, start_int, duration_int, xlabel_str):\n",
        "  \"\"\"\n",
        "  Upload a sound file\n",
        "  Take a segment\n",
        "  Plot the spectrum\n",
        "  \"\"\"\n",
        "  raise NotImplementedError\n",
        "\n",
        "  return None"
      ],
      "execution_count": null,
      "outputs": []
    }
  ]
}
